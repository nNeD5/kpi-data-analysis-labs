{
 "cells": [
  {
   "cell_type": "code",
   "execution_count": null,
   "id": "c7271d61",
   "metadata": {},
   "outputs": [],
   "source": [
    "print(\"Hello Jupyter\")"
   ]
  }
 ],
 "metadata": {
  "jupytext": {
   "cell_metadata_filter": "-all",
   "formats": "ipynb,py:percent",
   "main_language": "python"
  }
 },
 "nbformat": 4,
 "nbformat_minor": 5
}
