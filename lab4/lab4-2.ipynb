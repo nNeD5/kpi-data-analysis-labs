{
 "cells": [
  {
   "cell_type": "markdown",
   "id": "a1711897",
   "metadata": {
    "cell_marker": "r\"\"\""
   },
   "source": [
    "Недождій Олексій ФФ-31мн\n",
    "\n",
    "Lab 4. Advanced Nets\n",
    "2. Проведіть експерименти з моделями бібліотеки Hugging Face (раніше - Hugging Face Transformers, https://huggingface.co/) за допомогою (наприклад) Pipeline модуля"
   ]
  },
  {
   "cell_type": "code",
   "execution_count": 1,
   "id": "8dc9e64e",
   "metadata": {},
   "outputs": [
    {
     "name": "stderr",
     "output_type": "stream",
     "text": [
      "/home/ned/.local/share/mamba/envs/data-scince/lib/python3.12/site-packages/tqdm/auto.py:21: TqdmWarning: IProgress not found. Please update jupyter and ipywidgets. See https://ipywidgets.readthedocs.io/en/stable/user_install.html\n",
      "  from .autonotebook import tqdm as notebook_tqdm\n",
      "2024-12-28 11:18:12.584744: I tensorflow/core/platform/cpu_feature_guard.cc:210] This TensorFlow binary is optimized to use available CPU instructions in performance-critical operations.\n",
      "To enable the following instructions: SSE4.1 SSE4.2 AVX AVX2 FMA, in other operations, rebuild TensorFlow with the appropriate compiler flags.\n"
     ]
    }
   ],
   "source": [
    "from transformers import pipeline"
   ]
  },
  {
   "cell_type": "code",
   "execution_count": 2,
   "id": "d0916f44",
   "metadata": {},
   "outputs": [],
   "source": [
    "pipe = pipeline(model=\"benjamin/gpt2-large-wechsel-ukrainian\")"
   ]
  },
  {
   "cell_type": "code",
   "execution_count": 3,
   "id": "75ab886d",
   "metadata": {},
   "outputs": [
    {
     "name": "stdin",
     "output_type": "stream",
     "text": [
      "Ask model something:  столиця України це\n"
     ]
    },
    {
     "name": "stderr",
     "output_type": "stream",
     "text": [
      "Setting `pad_token_id` to `eos_token_id`:None for open-end generation.\n"
     ]
    },
    {
     "name": "stdout",
     "output_type": "stream",
     "text": [
      "[{'generated_text': 'столиця України це місто, якому ми могли б віддати найвище звання. Тут є все – розкішні будівлі, затишні вулиці та неперевершена набережна. До цього варто додати пам’ятники архітектури, церкви та музеї. Саме для цього ми'}]\n"
     ]
    }
   ],
   "source": [
    "user_input = input(\"Ask model something: \")\n",
    "output = pipe(user_input, return_full_text=True)\n",
    "print(output)"
   ]
  }
 ],
 "metadata": {
  "jupytext": {
   "cell_metadata_filter": "-all",
   "main_language": "python",
   "notebook_metadata_filter": "-all"
  },
  "kernelspec": {
   "display_name": "data-scince",
   "language": "python",
   "name": "data-scince"
  },
  "language_info": {
   "codemirror_mode": {
    "name": "ipython",
    "version": 3
   },
   "file_extension": ".py",
   "mimetype": "text/x-python",
   "name": "python",
   "nbconvert_exporter": "python",
   "pygments_lexer": "ipython3",
   "version": "3.12.7"
  }
 },
 "nbformat": 4,
 "nbformat_minor": 5
}
